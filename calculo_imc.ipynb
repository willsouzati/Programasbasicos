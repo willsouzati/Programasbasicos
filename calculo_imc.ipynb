{
  "nbformat": 4,
  "nbformat_minor": 0,
  "metadata": {
    "colab": {
      "provenance": [],
      "authorship_tag": "ABX9TyMfQRrAi2PZU5EETknvCJ64",
      "include_colab_link": true
    },
    "kernelspec": {
      "name": "python3",
      "display_name": "Python 3"
    },
    "language_info": {
      "name": "python"
    }
  },
  "cells": [
    {
      "cell_type": "markdown",
      "metadata": {
        "id": "view-in-github",
        "colab_type": "text"
      },
      "source": [
        "<a href=\"https://colab.research.google.com/github/willsouzati/Programasbasicos/blob/main/calculo_imc.ipynb\" target=\"_parent\"><img src=\"https://colab.research.google.com/assets/colab-badge.svg\" alt=\"Open In Colab\"/></a>"
      ]
    },
    {
      "cell_type": "code",
      "execution_count": null,
      "metadata": {
        "id": "9RRsjJkyZURu"
      },
      "outputs": [],
      "source": [
        "print('Calcule seu IMC abaixo !')\n",
        "peso_str = input('Digite seu peso :')\n",
        "altura_str = input('Digite sua altura')\n",
        "\n",
        "#Faz com que leia tanto virgula como ponto 1,79 ou 1.79.\n",
        "peso = float(peso_str.replace(',','.'))\n",
        "altura = float(altura_str.replace(',','.'))\n",
        "\n",
        "#Calcula o IMC através da fórmula.\n",
        "imc = peso / (altura**2)\n",
        "# Arredondar o IMC para duas casas decimais\n",
        "imc = round(imc, 2)\n",
        "#vai comparar o IMC e dizer seu nível\n",
        "if imc <18.5 :\n",
        "  print(f'Seu IMC É {imc} E você está com IMC de Magresa ! Obesidade grau 0.')\n",
        "elif (imc >18.5) and (imc <24.9) :\n",
        "  print(f'Seu IMC É {imc} E você está com o IMC  de normal ! Obesidade grau 0.')\n",
        "elif (imc >25.0) and (imc <29.9) :\n",
        "  print(f'Seu IMC É {imc} E você está com o IMC de Sobrepeso ! Obesidade grau 1.')\n",
        "elif (imc >30.0) and (imc <39.9) :\n",
        "  print(f'Seu IMC É {imc} E você está com o IMC de Obesidade ! Obesidade grau 2.')\n",
        "else :\n",
        "  print(f'Seu IMC É {imc} E você está com o IMC de Obesidade Grave ! Obesidade grau 3.')\n"
      ]
    }
  ]
}
